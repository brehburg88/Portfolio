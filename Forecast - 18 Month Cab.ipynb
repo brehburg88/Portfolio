{
 "cells": [
  {
   "cell_type": "code",
   "execution_count": 1,
   "metadata": {},
   "outputs": [],
   "source": [
    "import pandas as pd"
   ]
  },
  {
   "cell_type": "code",
   "execution_count": 2,
   "metadata": {},
   "outputs": [],
   "source": [
    "df = pd.read_excel(\"C:\\\\Users\\\\E882716\\\\OneDrive - Honeywell\\\\Documents\\\\Forecasts\\\\Rittal\\\\CC-CBDD01.xlsx\")"
   ]
  },
  {
   "cell_type": "code",
   "execution_count": 3,
   "metadata": {},
   "outputs": [
    {
     "name": "stdout",
     "output_type": "stream",
     "text": [
      "             ds  y\n",
      "0    2012-07-20  1\n",
      "1    2012-07-24  1\n",
      "2    2012-07-24  1\n",
      "3    2012-07-24  1\n",
      "4    2012-08-22  1\n",
      "...         ... ..\n",
      "2181 2022-05-04  1\n",
      "2182 2022-05-24  1\n",
      "2183 2022-05-24  1\n",
      "2184 2022-05-24  1\n",
      "2185 2022-05-24  1\n",
      "\n",
      "[2186 rows x 2 columns]\n"
     ]
    }
   ],
   "source": [
    "print(df)"
   ]
  },
  {
   "cell_type": "code",
   "execution_count": 4,
   "metadata": {},
   "outputs": [],
   "source": [
    "df['ds']=pd.to_datetime(df['ds'], format='%y/%m/%d %I:%M%p')\n",
    "df.index=df['ds']\n",
    "data = df.groupby(pd.Grouper(freq='M')).sum()\n",
    "with pd.ExcelWriter(\"C:\\\\Users\\\\E882716\\\\OneDrive - Honeywell\\Documents\\\\Forecasts\\\\Rittal\\\\CC-CBDD01_clean.xlsx\") as writer:\n",
    "    data.to_excel(writer, sheet_name='Forecast')"
   ]
  }
 ],
 "metadata": {
  "interpreter": {
   "hash": "86b7069fc842243dfb40e1064520405985ebe68720581565a2416bee1071e1d4"
  },
  "kernelspec": {
   "display_name": "Python 3.9.7 ('base')",
   "language": "python",
   "name": "python3"
  },
  "language_info": {
   "codemirror_mode": {
    "name": "ipython",
    "version": 3
   },
   "file_extension": ".py",
   "mimetype": "text/x-python",
   "name": "python",
   "nbconvert_exporter": "python",
   "pygments_lexer": "ipython3",
   "version": "3.9.7"
  },
  "orig_nbformat": 4
 },
 "nbformat": 4,
 "nbformat_minor": 2
}
