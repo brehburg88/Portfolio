{
 "cells": [
  {
   "cell_type": "code",
   "execution_count": 23,
   "metadata": {},
   "outputs": [],
   "source": [
    "import pandas as pd"
   ]
  },
  {
   "cell_type": "markdown",
   "metadata": {},
   "source": [
    "Import Covid Data"
   ]
  },
  {
   "cell_type": "code",
   "execution_count": 24,
   "metadata": {},
   "outputs": [],
   "source": [
    "df = pd.read_csv(\"https://raw.githubusercontent.com/nytimes/covid-19-data/master/us.csv\")"
   ]
  },
  {
   "cell_type": "markdown",
   "metadata": {},
   "source": [
    "Adding new cases"
   ]
  },
  {
   "cell_type": "code",
   "execution_count": 25,
   "metadata": {},
   "outputs": [],
   "source": [
    "df['new_cases'] = df.cases - df.cases.shift().fillna(0)"
   ]
  },
  {
   "cell_type": "markdown",
   "metadata": {},
   "source": [
    "Creating time series"
   ]
  },
  {
   "cell_type": "code",
   "execution_count": 26,
   "metadata": {},
   "outputs": [],
   "source": [
    "df.date = pd.to_datetime(df.date)\n",
    "df.set_index('date',inplace=True)\n",
    "df['rolling_weekly_avg'] = df.new_cases.rolling(window=7).mean().fillna(0)"
   ]
  },
  {
   "cell_type": "markdown",
   "metadata": {},
   "source": [
    "Creating data in a readable format for FBProphet"
   ]
  },
  {
   "cell_type": "code",
   "execution_count": 27,
   "metadata": {},
   "outputs": [
    {
     "data": {
      "text/html": [
       "<div>\n",
       "<style scoped>\n",
       "    .dataframe tbody tr th:only-of-type {\n",
       "        vertical-align: middle;\n",
       "    }\n",
       "\n",
       "    .dataframe tbody tr th {\n",
       "        vertical-align: top;\n",
       "    }\n",
       "\n",
       "    .dataframe thead th {\n",
       "        text-align: right;\n",
       "    }\n",
       "</style>\n",
       "<table border=\"1\" class=\"dataframe\">\n",
       "  <thead>\n",
       "    <tr style=\"text-align: right;\">\n",
       "      <th></th>\n",
       "      <th>ds</th>\n",
       "      <th>y</th>\n",
       "    </tr>\n",
       "    <tr>\n",
       "      <th>date</th>\n",
       "      <th></th>\n",
       "      <th></th>\n",
       "    </tr>\n",
       "  </thead>\n",
       "  <tbody>\n",
       "    <tr>\n",
       "      <th>2022-07-19</th>\n",
       "      <td>2022-07-19</td>\n",
       "      <td>160871.0</td>\n",
       "    </tr>\n",
       "    <tr>\n",
       "      <th>2022-07-20</th>\n",
       "      <td>2022-07-20</td>\n",
       "      <td>204774.0</td>\n",
       "    </tr>\n",
       "    <tr>\n",
       "      <th>2022-07-21</th>\n",
       "      <td>2022-07-21</td>\n",
       "      <td>154076.0</td>\n",
       "    </tr>\n",
       "    <tr>\n",
       "      <th>2022-07-22</th>\n",
       "      <td>2022-07-22</td>\n",
       "      <td>165689.0</td>\n",
       "    </tr>\n",
       "    <tr>\n",
       "      <th>2022-07-23</th>\n",
       "      <td>2022-07-23</td>\n",
       "      <td>24251.0</td>\n",
       "    </tr>\n",
       "  </tbody>\n",
       "</table>\n",
       "</div>"
      ],
      "text/plain": [
       "                   ds         y\n",
       "date                           \n",
       "2022-07-19 2022-07-19  160871.0\n",
       "2022-07-20 2022-07-20  204774.0\n",
       "2022-07-21 2022-07-21  154076.0\n",
       "2022-07-22 2022-07-22  165689.0\n",
       "2022-07-23 2022-07-23   24251.0"
      ]
     },
     "execution_count": 27,
     "metadata": {},
     "output_type": "execute_result"
    }
   ],
   "source": [
    "ts = pd.DataFrame({'ds':df.index,'y':df.new_cases})\n",
    "ts.tail()"
   ]
  },
  {
   "cell_type": "markdown",
   "metadata": {},
   "source": [
    "Configure model"
   ]
  },
  {
   "cell_type": "code",
   "execution_count": 28,
   "metadata": {},
   "outputs": [],
   "source": [
    "from prophet import Prophet"
   ]
  },
  {
   "cell_type": "code",
   "execution_count": 30,
   "metadata": {},
   "outputs": [
    {
     "name": "stderr",
     "output_type": "stream",
     "text": [
      "INFO:prophet:Disabling daily seasonality. Run prophet with daily_seasonality=True to override this.\n"
     ]
    },
    {
     "data": {
      "text/plain": [
       "<prophet.forecaster.Prophet at 0x7f7c405ae580>"
      ]
     },
     "execution_count": 30,
     "metadata": {},
     "output_type": "execute_result"
    }
   ],
   "source": [
    "prophet = Prophet(weekly_seasonality=False, changepoint_range=1,changepoint_prior_scale=0.75)\n",
    "prophet.fit(ts)"
   ]
  },
  {
   "cell_type": "markdown",
   "metadata": {},
   "source": [
    "Create future data frame"
   ]
  },
  {
   "cell_type": "code",
   "execution_count": 31,
   "metadata": {},
   "outputs": [],
   "source": [
    "future = prophet.make_future_dataframe(periods=25)\n",
    "forecast = prophet.predict(future)"
   ]
  },
  {
   "cell_type": "code",
   "execution_count": 50,
   "metadata": {},
   "outputs": [
    {
     "data": {
      "text/html": [
       "<div>\n",
       "<style scoped>\n",
       "    .dataframe tbody tr th:only-of-type {\n",
       "        vertical-align: middle;\n",
       "    }\n",
       "\n",
       "    .dataframe tbody tr th {\n",
       "        vertical-align: top;\n",
       "    }\n",
       "\n",
       "    .dataframe thead th {\n",
       "        text-align: right;\n",
       "    }\n",
       "</style>\n",
       "<table border=\"1\" class=\"dataframe\">\n",
       "  <thead>\n",
       "    <tr style=\"text-align: right;\">\n",
       "      <th></th>\n",
       "      <th>ds</th>\n",
       "      <th>yhat</th>\n",
       "      <th>yhat_lower</th>\n",
       "      <th>yhat_upper</th>\n",
       "    </tr>\n",
       "  </thead>\n",
       "  <tbody>\n",
       "    <tr>\n",
       "      <th>915</th>\n",
       "      <td>2022-07-24</td>\n",
       "      <td>144421.289078</td>\n",
       "      <td>57623.236807</td>\n",
       "      <td>233384.111887</td>\n",
       "    </tr>\n",
       "    <tr>\n",
       "      <th>916</th>\n",
       "      <td>2022-07-25</td>\n",
       "      <td>146275.590118</td>\n",
       "      <td>54498.026839</td>\n",
       "      <td>235518.424279</td>\n",
       "    </tr>\n",
       "    <tr>\n",
       "      <th>917</th>\n",
       "      <td>2022-07-26</td>\n",
       "      <td>148282.574275</td>\n",
       "      <td>59440.065116</td>\n",
       "      <td>235180.516518</td>\n",
       "    </tr>\n",
       "    <tr>\n",
       "      <th>918</th>\n",
       "      <td>2022-07-27</td>\n",
       "      <td>150444.422624</td>\n",
       "      <td>58757.467923</td>\n",
       "      <td>235318.763851</td>\n",
       "    </tr>\n",
       "    <tr>\n",
       "      <th>919</th>\n",
       "      <td>2022-07-28</td>\n",
       "      <td>152759.252282</td>\n",
       "      <td>63824.374900</td>\n",
       "      <td>239684.375402</td>\n",
       "    </tr>\n",
       "    <tr>\n",
       "      <th>920</th>\n",
       "      <td>2022-07-29</td>\n",
       "      <td>155221.001248</td>\n",
       "      <td>70560.491010</td>\n",
       "      <td>246427.267533</td>\n",
       "    </tr>\n",
       "    <tr>\n",
       "      <th>921</th>\n",
       "      <td>2022-07-30</td>\n",
       "      <td>157819.441397</td>\n",
       "      <td>70105.819078</td>\n",
       "      <td>249227.728856</td>\n",
       "    </tr>\n",
       "    <tr>\n",
       "      <th>922</th>\n",
       "      <td>2022-07-31</td>\n",
       "      <td>160540.322073</td>\n",
       "      <td>75655.196002</td>\n",
       "      <td>247725.296399</td>\n",
       "    </tr>\n",
       "    <tr>\n",
       "      <th>923</th>\n",
       "      <td>2022-08-01</td>\n",
       "      <td>163365.642683</td>\n",
       "      <td>79964.169699</td>\n",
       "      <td>252885.569560</td>\n",
       "    </tr>\n",
       "    <tr>\n",
       "      <th>924</th>\n",
       "      <td>2022-08-02</td>\n",
       "      <td>166274.048559</td>\n",
       "      <td>75329.825005</td>\n",
       "      <td>260176.028927</td>\n",
       "    </tr>\n",
       "    <tr>\n",
       "      <th>925</th>\n",
       "      <td>2022-08-03</td>\n",
       "      <td>169241.340429</td>\n",
       "      <td>78354.448988</td>\n",
       "      <td>258175.126720</td>\n",
       "    </tr>\n",
       "    <tr>\n",
       "      <th>926</th>\n",
       "      <td>2022-08-04</td>\n",
       "      <td>172241.084058</td>\n",
       "      <td>78736.685239</td>\n",
       "      <td>264906.104912</td>\n",
       "    </tr>\n",
       "    <tr>\n",
       "      <th>927</th>\n",
       "      <td>2022-08-05</td>\n",
       "      <td>175245.303305</td>\n",
       "      <td>84782.091793</td>\n",
       "      <td>267765.590124</td>\n",
       "    </tr>\n",
       "    <tr>\n",
       "      <th>928</th>\n",
       "      <td>2022-08-06</td>\n",
       "      <td>178225.236887</td>\n",
       "      <td>87850.241647</td>\n",
       "      <td>265641.655915</td>\n",
       "    </tr>\n",
       "    <tr>\n",
       "      <th>929</th>\n",
       "      <td>2022-08-07</td>\n",
       "      <td>181152.136882</td>\n",
       "      <td>91051.349659</td>\n",
       "      <td>275130.798856</td>\n",
       "    </tr>\n",
       "    <tr>\n",
       "      <th>930</th>\n",
       "      <td>2022-08-08</td>\n",
       "      <td>183998.085276</td>\n",
       "      <td>96793.457970</td>\n",
       "      <td>280814.133008</td>\n",
       "    </tr>\n",
       "    <tr>\n",
       "      <th>931</th>\n",
       "      <td>2022-08-09</td>\n",
       "      <td>186736.803928</td>\n",
       "      <td>97650.998947</td>\n",
       "      <td>279981.265265</td>\n",
       "    </tr>\n",
       "    <tr>\n",
       "      <th>932</th>\n",
       "      <td>2022-08-10</td>\n",
       "      <td>189344.433120</td>\n",
       "      <td>98315.126156</td>\n",
       "      <td>287266.520897</td>\n",
       "    </tr>\n",
       "    <tr>\n",
       "      <th>933</th>\n",
       "      <td>2022-08-11</td>\n",
       "      <td>191800.254394</td>\n",
       "      <td>92414.540216</td>\n",
       "      <td>285997.896495</td>\n",
       "    </tr>\n",
       "    <tr>\n",
       "      <th>934</th>\n",
       "      <td>2022-08-12</td>\n",
       "      <td>194087.334728</td>\n",
       "      <td>101083.529407</td>\n",
       "      <td>286112.140669</td>\n",
       "    </tr>\n",
       "    <tr>\n",
       "      <th>935</th>\n",
       "      <td>2022-08-13</td>\n",
       "      <td>196193.071125</td>\n",
       "      <td>99455.003486</td>\n",
       "      <td>297308.715331</td>\n",
       "    </tr>\n",
       "    <tr>\n",
       "      <th>936</th>\n",
       "      <td>2022-08-14</td>\n",
       "      <td>198109.617435</td>\n",
       "      <td>100047.026418</td>\n",
       "      <td>300987.849083</td>\n",
       "    </tr>\n",
       "    <tr>\n",
       "      <th>937</th>\n",
       "      <td>2022-08-15</td>\n",
       "      <td>199834.178543</td>\n",
       "      <td>106747.739919</td>\n",
       "      <td>295397.532809</td>\n",
       "    </tr>\n",
       "    <tr>\n",
       "      <th>938</th>\n",
       "      <td>2022-08-16</td>\n",
       "      <td>201369.160885</td>\n",
       "      <td>106456.746361</td>\n",
       "      <td>302695.582253</td>\n",
       "    </tr>\n",
       "    <tr>\n",
       "      <th>939</th>\n",
       "      <td>2022-08-17</td>\n",
       "      <td>202722.172494</td>\n",
       "      <td>111977.641457</td>\n",
       "      <td>304029.516376</td>\n",
       "    </tr>\n",
       "  </tbody>\n",
       "</table>\n",
       "</div>"
      ],
      "text/plain": [
       "            ds           yhat     yhat_lower     yhat_upper\n",
       "915 2022-07-24  144421.289078   57623.236807  233384.111887\n",
       "916 2022-07-25  146275.590118   54498.026839  235518.424279\n",
       "917 2022-07-26  148282.574275   59440.065116  235180.516518\n",
       "918 2022-07-27  150444.422624   58757.467923  235318.763851\n",
       "919 2022-07-28  152759.252282   63824.374900  239684.375402\n",
       "920 2022-07-29  155221.001248   70560.491010  246427.267533\n",
       "921 2022-07-30  157819.441397   70105.819078  249227.728856\n",
       "922 2022-07-31  160540.322073   75655.196002  247725.296399\n",
       "923 2022-08-01  163365.642683   79964.169699  252885.569560\n",
       "924 2022-08-02  166274.048559   75329.825005  260176.028927\n",
       "925 2022-08-03  169241.340429   78354.448988  258175.126720\n",
       "926 2022-08-04  172241.084058   78736.685239  264906.104912\n",
       "927 2022-08-05  175245.303305   84782.091793  267765.590124\n",
       "928 2022-08-06  178225.236887   87850.241647  265641.655915\n",
       "929 2022-08-07  181152.136882   91051.349659  275130.798856\n",
       "930 2022-08-08  183998.085276   96793.457970  280814.133008\n",
       "931 2022-08-09  186736.803928   97650.998947  279981.265265\n",
       "932 2022-08-10  189344.433120   98315.126156  287266.520897\n",
       "933 2022-08-11  191800.254394   92414.540216  285997.896495\n",
       "934 2022-08-12  194087.334728  101083.529407  286112.140669\n",
       "935 2022-08-13  196193.071125   99455.003486  297308.715331\n",
       "936 2022-08-14  198109.617435  100047.026418  300987.849083\n",
       "937 2022-08-15  199834.178543  106747.739919  295397.532809\n",
       "938 2022-08-16  201369.160885  106456.746361  302695.582253\n",
       "939 2022-08-17  202722.172494  111977.641457  304029.516376"
      ]
     },
     "execution_count": 50,
     "metadata": {},
     "output_type": "execute_result"
    }
   ],
   "source": [
    "forecast[['ds','yhat','yhat_lower','yhat_upper']].tail(25)"
   ]
  },
  {
   "cell_type": "markdown",
   "metadata": {},
   "source": [
    "Plot forecast"
   ]
  },
  {
   "cell_type": "code",
   "execution_count": 33,
   "metadata": {},
   "outputs": [
    {
     "data": {
      "image/png": "[encoded data removed]",
      "text/plain": [
       "<Figure size 720x432 with 1 Axes>"
      ]
     },
     "metadata": {},
     "output_type": "display_data"
    }
   ],
   "source": [
    "fig = prophet.plot(forecast)"
   ]
  },
  {
   "cell_type": "markdown",
   "metadata": {},
   "source": [
    "Make an out of sample forecast"
   ]
  }
 ],
 "metadata": {
  "kernelspec": {
   "display_name": "Python 3.8.5 ('base')",
   "language": "python",
   "name": "python3"
  },
  "language_info": {
   "codemirror_mode": {
    "name": "ipython",
    "version": 3
   },
   "file_extension": ".py",
   "mimetype": "text/x-python",
   "name": "python",
   "nbconvert_exporter": "python",
   "pygments_lexer": "ipython3",
   "version": "3.8.5"
  },
  "orig_nbformat": 4,
  "vscode": {
   "interpreter": {
    "hash": "40d3a090f54c6569ab1632332b64b2c03c39dcf918b08424e98f38b5ae0af88f"
   }
  }
 },
 "nbformat": 4,
 "nbformat_minor": 2
}
